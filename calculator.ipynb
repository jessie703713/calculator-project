{
  "cells": [
    {
      "cell_type": "code",
      "execution_count": null,
      "metadata": {
        "id": "3RM5i5ZFGB91"
      },
      "outputs": [],
      "source": [
        "def add(x, y):\n",
        "    \"\"\"\n",
        "    Adds two numbers.\n",
        "\n",
        "    Parameters:\n",
        "    - x (float or int): The first number to be added.\n",
        "    - y (float or int): The second number to be added.\n",
        "\n",
        "    Returns:\n",
        "    float or int: The sum of x and y.\n",
        "    \"\"\"\n",
        "    return x + y\n",
        "\n",
        "\n",
        "\n",
        "def subtract(x, y):\n",
        "    \"\"\"\n",
        "    Subtracts the second number from the first.\n",
        "\n",
        "    Parameters:\n",
        "    - x (float or int): The number from which the second number will be subtracted.\n",
        "    - y (float or int): The number to be subtracted.\n",
        "\n",
        "    Returns:\n",
        "    float or int: The result of subtracting y from x.\n",
        "    \"\"\"\n",
        "    return x - y\n",
        "\n",
        "\n",
        "\n",
        "def multiply(x, y):\n",
        "    \"\"\"\n",
        "    Multiplies two numbers.\n",
        "\n",
        "    Parameters:\n",
        "    - x (float or int): The first number to be multiplied.\n",
        "    - y (float or int): The second number to be multiplied.\n",
        "\n",
        "    Returns:\n",
        "    float or int: The product of x and y.\n",
        "    \"\"\"\n",
        "    return x * y\n",
        "\n",
        "\n",
        "\n",
        "def divide(x, y):\n",
        "    \"\"\"\n",
        "    Divides the first number by the second.\n",
        "\n",
        "    Parameters:\n",
        "    - x (float or int): The dividend.\n",
        "    - y (float or int): The divisor.\n",
        "\n",
        "    Returns:\n",
        "    float: The result of dividing x by y.\n",
        "    \"\"\"\n",
        "    if y == 0:\n",
        "        raise ValueError(\"Cannot divide by zero.\")\n",
        "    return x / y"
      ]
    },
    {
      "cell_type": "code",
      "execution_count": null,
      "metadata": {
        "id": "91Nts0rUGB-C",
        "outputId": "f1a5d83d-9b98-4bb5-926d-b46de97d873d"
      },
      "outputs": [
        {
          "data": {
            "text/plain": [
              "8"
            ]
          },
          "execution_count": 2,
          "metadata": {},
          "output_type": "execute_result"
        }
      ],
      "source": [
        "add(4,4)"
      ]
    },
    {
      "cell_type": "code",
      "execution_count": null,
      "metadata": {
        "id": "rDkNgb7YGB-E",
        "outputId": "d411033d-e09f-477a-f75b-7bc8b028f356"
      },
      "outputs": [
        {
          "data": {
            "text/plain": [
              "0"
            ]
          },
          "execution_count": 3,
          "metadata": {},
          "output_type": "execute_result"
        }
      ],
      "source": [
        "subtract(4,4)"
      ]
    },
    {
      "cell_type": "code",
      "execution_count": null,
      "metadata": {
        "id": "xDKyrpZCGB-F",
        "outputId": "ba1b2dd8-2085-4e06-f4fa-06ab3b972500"
      },
      "outputs": [
        {
          "data": {
            "text/plain": [
              "256"
            ]
          },
          "execution_count": 4,
          "metadata": {},
          "output_type": "execute_result"
        }
      ],
      "source": [
        "multiply(4,4)"
      ]
    },
    {
      "cell_type": "code",
      "execution_count": null,
      "metadata": {
        "id": "EGvXmqmWGB-F",
        "outputId": "0de6db96-5ae8-4a5c-a527-0b9e882e37de"
      },
      "outputs": [
        {
          "data": {
            "text/plain": [
              "1.0"
            ]
          },
          "execution_count": 5,
          "metadata": {},
          "output_type": "execute_result"
        }
      ],
      "source": [
        "divide(4,4)"
      ]
    },
    {
      "cell_type": "code",
      "execution_count": null,
      "metadata": {
        "id": "AhVrzvUIGB-G"
      },
      "outputs": [],
      "source": []
    }
  ],
  "metadata": {
    "kernelspec": {
      "display_name": "Python 3",
      "language": "python",
      "name": "python3"
    },
    "language_info": {
      "codemirror_mode": {
        "name": "ipython",
        "version": 3
      },
      "file_extension": ".py",
      "mimetype": "text/x-python",
      "name": "python",
      "nbconvert_exporter": "python",
      "pygments_lexer": "ipython3",
      "version": "3.9.6"
    },
    "colab": {
      "provenance": []
    }
  },
  "nbformat": 4,
  "nbformat_minor": 0
}